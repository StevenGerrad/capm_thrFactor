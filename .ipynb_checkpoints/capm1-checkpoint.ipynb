{
 "cells": [
  {
   "cell_type": "code",
   "execution_count": 6,
   "metadata": {},
   "outputs": [
    {
     "ename": "ModuleNotFoundError",
     "evalue": "No module named 'tushare'",
     "output_type": "error",
     "traceback": [
      "\u001b[1;31m---------------------------------------------------------------------------\u001b[0m",
      "\u001b[1;31mModuleNotFoundError\u001b[0m                       Traceback (most recent call last)",
      "\u001b[1;32m<ipython-input-6-fc038332810a>\u001b[0m in \u001b[0;36m<module>\u001b[1;34m()\u001b[0m\n\u001b[0;32m      3\u001b[0m \u001b[1;31m#cmd---pip install tushare\u001b[0m\u001b[1;33m\u001b[0m\u001b[1;33m\u001b[0m\u001b[0m\n\u001b[0;32m      4\u001b[0m \u001b[1;31m#载入股指数据\u001b[0m\u001b[1;33m\u001b[0m\u001b[1;33m\u001b[0m\u001b[0m\n\u001b[1;32m----> 5\u001b[1;33m \u001b[1;32mimport\u001b[0m \u001b[0mtushare\u001b[0m \u001b[1;32mas\u001b[0m \u001b[0mts\u001b[0m\u001b[1;33m\u001b[0m\u001b[0m\n\u001b[0m\u001b[0;32m      6\u001b[0m \u001b[0mmydf_sz\u001b[0m\u001b[1;33m=\u001b[0m\u001b[0mts\u001b[0m\u001b[1;33m.\u001b[0m\u001b[0mget_hist_data\u001b[0m\u001b[1;33m(\u001b[0m\u001b[1;34m'sz'\u001b[0m\u001b[1;33m,\u001b[0m\u001b[0mstart\u001b[0m\u001b[1;33m=\u001b[0m\u001b[1;34m'2017-01-01'\u001b[0m\u001b[1;33m,\u001b[0m\u001b[0mend\u001b[0m\u001b[1;33m=\u001b[0m\u001b[1;34m'2018-5-7'\u001b[0m\u001b[1;33m)\u001b[0m\u001b[1;33m\u001b[0m\u001b[0m\n\u001b[0;32m      7\u001b[0m \u001b[0mmydf_sh\u001b[0m\u001b[1;33m=\u001b[0m\u001b[0mts\u001b[0m\u001b[1;33m.\u001b[0m\u001b[0mget_hist_data\u001b[0m\u001b[1;33m(\u001b[0m\u001b[1;34m'sh'\u001b[0m\u001b[1;33m,\u001b[0m\u001b[0mstart\u001b[0m\u001b[1;33m=\u001b[0m\u001b[1;34m'2017-01-01'\u001b[0m\u001b[1;33m,\u001b[0m\u001b[0mend\u001b[0m\u001b[1;33m=\u001b[0m\u001b[1;34m'2018-5-7'\u001b[0m\u001b[1;33m)\u001b[0m\u001b[1;33m\u001b[0m\u001b[0m\n",
      "\u001b[1;31mModuleNotFoundError\u001b[0m: No module named 'tushare'"
     ]
    }
   ],
   "source": [
    "#资本资产进价模型(CAPM)---利用美的集团做实证\n",
    "#Rp=Rf+β*(E(Rm)-Rf)+ε\n",
    "#cmd---pip install tushare\n",
    "#载入股指数据\n",
    "import tushare as ts\n",
    "mydf_sz=ts.get_hist_data('sz',start='2017-01-01',end='2018-5-7')\n",
    "mydf_sh=ts.get_hist_data('sh',start='2017-01-01',end='2018-5-7')\n",
    "mydf_sh_md=ts.get_hist_data('000333',start='2017-01-01',end='2018-5-7')\n",
    "mydf_sh_md.p_change\n",
    "mydf_sh.p_change\n",
    " \n",
    "import pandas as pd\n",
    "sh_md_merge=pd.merge(pd.DataFrame(mydf_sh.p_change),pd.DataFrame(mydf_sh_md.p_change),left_index=True,right_index=True,how='inner')\n",
    " \n",
    "#计算日无风险利率\n",
    "Rf_annual=0.0385#以2017年中国一年期的国债利率为无风险利率\n",
    "Rf_daily=(1+Rf_annual)**(1/365)-1##年利率转化为日利率\n",
    " \n",
    "#计算风险溢价:Ri-Rf\n",
    "risk_premium=sh_md_merge-Rf_daily\n",
    "risk_premium.head()\n",
    " \n",
    "#画出两个风险溢价的散点图，查看相关性\n",
    "import matplotlib.pyplot as plt\n",
    "plt.scatter(risk_premium.values[:,0],risk_premium.values[:,1])"
   ]
  },
  {
   "cell_type": "code",
   "execution_count": null,
   "metadata": {},
   "outputs": [],
   "source": []
  }
 ],
 "metadata": {
  "kernelspec": {
   "display_name": "Python 3",
   "language": "python",
   "name": "python3"
  },
  "language_info": {
   "codemirror_mode": {
    "name": "ipython",
    "version": 3
   },
   "file_extension": ".py",
   "mimetype": "text/x-python",
   "name": "python",
   "nbconvert_exporter": "python",
   "pygments_lexer": "ipython3",
   "version": "3.6.4"
  }
 },
 "nbformat": 4,
 "nbformat_minor": 2
}
